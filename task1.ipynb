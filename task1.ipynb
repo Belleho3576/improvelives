{
 "cells": [
  {
   "cell_type": "code",
   "execution_count": 72,
   "metadata": {},
   "outputs": [],
   "source": [
    "import requests\n",
    "import pandas as pd\n",
    "import numpy as np\n"
   ]
  },
  {
   "cell_type": "code",
   "execution_count": 73,
   "metadata": {},
   "outputs": [],
   "source": [
    "def create_query(issn, per_page = 50, num_page = 1):\n",
    "    url = f\"https://api.openalex.org/works?&sort=publication_year:desc&per-page={per_page}&page={num_page}&filter=locations.source.issn:{issn}&select=id,display_name,doi,publication_year,abstract_inverted_index\"\n",
    "    return url\n",
    "\n",
    "#function to check the number of None for abstract \n",
    "def check(api_response):\n",
    "    check = []\n",
    "    for i, result in enumerate(api_response.json()[\"results\"]):\n",
    "        check.append(result[\"abstract_inverted_index\"])\n",
    "    return(sum([x is None for x in check]))\n",
    "\n",
    "def create_df(api_response, label_num):\n",
    "    title = []\n",
    "    abstract = []\n",
    "    year=[]\n",
    "    id = []\n",
    "    labels = [label_num]*50\n",
    "    for i, result in enumerate(api_response.json()[\"results\"]):\n",
    "        if result[\"abstract_inverted_index\"] is None:\n",
    "            continue \n",
    "        else:   \n",
    "            title.append(result[\"display_name\"])\n",
    "            year.append(result[\"publication_year\"])\n",
    "            abstract.append(result[\"abstract_inverted_index\"])\n",
    "            id.append(result[\"id\"])\n",
    "    \n",
    "    return pd.DataFrame({\"Title\":title, \"id\":id, \"publication_year\": year, \"abstract_index\":abstract, \"label\":labels})\n",
    "\n",
    "def convert_indices_to_abstract(abstractInvertedIndex):\n",
    "    # Step 1 and 2: Create the word_index list and sort it by index\n",
    "    word_index = []\n",
    "    for k, v in abstractInvertedIndex.items():\n",
    "        for index in v:\n",
    "            word_index.append([k, index])\n",
    "    word_index = sorted(word_index, key=lambda x: x[1])\n",
    "\n",
    "    # Step 3: Join the words from word_index list with spaces to form the abstract\n",
    "    abstract = []\n",
    "    prev_index = None\n",
    "    for word, index in word_index:\n",
    "        if index == prev_index:\n",
    "            abstract[-1] += ' ' + word  # Append the word to the previous word\n",
    "        else:\n",
    "            abstract.append(word)  # Add a new word to the abstract\n",
    "        prev_index = index\n",
    "\n",
    "    return ' '.join(abstract)"
   ]
  },
  {
   "cell_type": "code",
   "execution_count": 76,
   "metadata": {},
   "outputs": [
    {
     "data": {
      "text/plain": [
       "16"
      ]
     },
     "execution_count": 76,
     "metadata": {},
     "output_type": "execute_result"
    }
   ],
   "source": [
    "aer_issn = \"1944-7981\"\n",
    "aer_query = create_query(aer_issn, 115, 1)\n",
    "aer_response = requests.get(aer_query)\n",
    "check(aer_response)\n"
   ]
  },
  {
   "cell_type": "code",
   "execution_count": 20,
   "metadata": {},
   "outputs": [],
   "source": [
    "aer_df = create_df(aer_response, 0)   "
   ]
  },
  {
   "cell_type": "code",
   "execution_count": 21,
   "metadata": {},
   "outputs": [
    {
     "data": {
      "text/plain": [
       "0"
      ]
     },
     "execution_count": 21,
     "metadata": {},
     "output_type": "execute_result"
    }
   ],
   "source": [
    "#for American political science review \n",
    "apsr_issn = \"1537-5943\"\n",
    "apsr_query = create_query(apsr_issn, 50, 1)\n",
    "apsr_response = requests.get(apsr_query)\n",
    "check(apsr_response)\n"
   ]
  },
  {
   "cell_type": "code",
   "execution_count": 22,
   "metadata": {},
   "outputs": [],
   "source": [
    "apsr_df = create_df(apsr_response, 1)   "
   ]
  },
  {
   "cell_type": "code",
   "execution_count": 23,
   "metadata": {},
   "outputs": [
    {
     "data": {
      "text/html": [
       "<div>\n",
       "<style scoped>\n",
       "    .dataframe tbody tr th:only-of-type {\n",
       "        vertical-align: middle;\n",
       "    }\n",
       "\n",
       "    .dataframe tbody tr th {\n",
       "        vertical-align: top;\n",
       "    }\n",
       "\n",
       "    .dataframe thead th {\n",
       "        text-align: right;\n",
       "    }\n",
       "</style>\n",
       "<table border=\"1\" class=\"dataframe\">\n",
       "  <thead>\n",
       "    <tr style=\"text-align: right;\">\n",
       "      <th></th>\n",
       "      <th>Title</th>\n",
       "      <th>id</th>\n",
       "      <th>publication_year</th>\n",
       "      <th>abstract_index</th>\n",
       "      <th>label</th>\n",
       "    </tr>\n",
       "  </thead>\n",
       "  <tbody>\n",
       "    <tr>\n",
       "      <th>0</th>\n",
       "      <td>Electronic Food Vouchers: Evidence from an At-...</td>\n",
       "      <td>https://openalex.org/W4323366278</td>\n",
       "      <td>2023</td>\n",
       "      <td>{'We': [0], 'compare': [1], 'how': [2], 'in-ki...</td>\n",
       "      <td>0</td>\n",
       "    </tr>\n",
       "    <tr>\n",
       "      <th>1</th>\n",
       "      <td>Occupational Exposure to Capital-Embodied Tech...</td>\n",
       "      <td>https://openalex.org/W3129712029</td>\n",
       "      <td>2023</td>\n",
       "      <td>{'We': [0, 35], 'study': [1], 'differences': [...</td>\n",
       "      <td>0</td>\n",
       "    </tr>\n",
       "    <tr>\n",
       "      <th>2</th>\n",
       "      <td>Women Also Know Stuff: Challenging the Gender ...</td>\n",
       "      <td>https://openalex.org/W4383737845</td>\n",
       "      <td>2023</td>\n",
       "      <td>{'This': [0], 'article': [1], 'proposes': [2],...</td>\n",
       "      <td>1</td>\n",
       "    </tr>\n",
       "    <tr>\n",
       "      <th>3</th>\n",
       "      <td>Political Responsiveness to Conflict Victims: ...</td>\n",
       "      <td>https://openalex.org/W4322506576</td>\n",
       "      <td>2023</td>\n",
       "      <td>{'Violence': [0], 'leaves': [1], 'significant'...</td>\n",
       "      <td>1</td>\n",
       "    </tr>\n",
       "    <tr>\n",
       "      <th>4</th>\n",
       "      <td>Droughts, Deluges, and (River) Diversions: Val...</td>\n",
       "      <td>https://openalex.org/W4323366286</td>\n",
       "      <td>2023</td>\n",
       "      <td>{'This': [0], 'paper': [1], 'develops': [2], '...</td>\n",
       "      <td>0</td>\n",
       "    </tr>\n",
       "  </tbody>\n",
       "</table>\n",
       "</div>"
      ],
      "text/plain": [
       "                                               Title  \\\n",
       "0  Electronic Food Vouchers: Evidence from an At-...   \n",
       "1  Occupational Exposure to Capital-Embodied Tech...   \n",
       "2  Women Also Know Stuff: Challenging the Gender ...   \n",
       "3  Political Responsiveness to Conflict Victims: ...   \n",
       "4  Droughts, Deluges, and (River) Diversions: Val...   \n",
       "\n",
       "                                 id  publication_year  \\\n",
       "0  https://openalex.org/W4323366278              2023   \n",
       "1  https://openalex.org/W3129712029              2023   \n",
       "2  https://openalex.org/W4383737845              2023   \n",
       "3  https://openalex.org/W4322506576              2023   \n",
       "4  https://openalex.org/W4323366286              2023   \n",
       "\n",
       "                                      abstract_index  label  \n",
       "0  {'We': [0], 'compare': [1], 'how': [2], 'in-ki...      0  \n",
       "1  {'We': [0, 35], 'study': [1], 'differences': [...      0  \n",
       "2  {'This': [0], 'article': [1], 'proposes': [2],...      1  \n",
       "3  {'Violence': [0], 'leaves': [1], 'significant'...      1  \n",
       "4  {'This': [0], 'paper': [1], 'develops': [2], '...      0  "
      ]
     },
     "execution_count": 23,
     "metadata": {},
     "output_type": "execute_result"
    }
   ],
   "source": [
    "total_df = pd.concat([apsr_df,aer_df], axis = 0)\n",
    "total_df = total_df.sample(frac = 1)\n",
    "total_df.index = range(100)\n",
    "total_df.head()"
   ]
  },
  {
   "cell_type": "code",
   "execution_count": 43,
   "metadata": {},
   "outputs": [],
   "source": [
    "new_abstract = []\n",
    "for i in total_df[\"abstract_index\"]:\n",
    "    full_abstract = convert_indices_to_abstract(i)\n",
    "    new_abstract.append(full_abstract)\n",
    " "
   ]
  },
  {
   "cell_type": "code",
   "execution_count": 53,
   "metadata": {},
   "outputs": [
    {
     "name": "stdout",
     "output_type": "stream",
     "text": [
      "100\n"
     ]
    },
    {
     "data": {
      "text/html": [
       "<div>\n",
       "<style scoped>\n",
       "    .dataframe tbody tr th:only-of-type {\n",
       "        vertical-align: middle;\n",
       "    }\n",
       "\n",
       "    .dataframe tbody tr th {\n",
       "        vertical-align: top;\n",
       "    }\n",
       "\n",
       "    .dataframe thead th {\n",
       "        text-align: right;\n",
       "    }\n",
       "</style>\n",
       "<table border=\"1\" class=\"dataframe\">\n",
       "  <thead>\n",
       "    <tr style=\"text-align: right;\">\n",
       "      <th></th>\n",
       "      <th>abstract</th>\n",
       "      <th>Label</th>\n",
       "    </tr>\n",
       "  </thead>\n",
       "  <tbody>\n",
       "    <tr>\n",
       "      <th>0</th>\n",
       "      <td>We compare how in-kind food assistance and an ...</td>\n",
       "      <td>0</td>\n",
       "    </tr>\n",
       "    <tr>\n",
       "      <th>1</th>\n",
       "      <td>We study differences in exposure to factor-bia...</td>\n",
       "      <td>0</td>\n",
       "    </tr>\n",
       "    <tr>\n",
       "      <th>2</th>\n",
       "      <td>This article proposes a simple but powerful fr...</td>\n",
       "      <td>1</td>\n",
       "    </tr>\n",
       "    <tr>\n",
       "      <th>3</th>\n",
       "      <td>Violence leaves significant social groups at a...</td>\n",
       "      <td>1</td>\n",
       "    </tr>\n",
       "    <tr>\n",
       "      <th>4</th>\n",
       "      <td>This paper develops and applies a method to va...</td>\n",
       "      <td>0</td>\n",
       "    </tr>\n",
       "  </tbody>\n",
       "</table>\n",
       "</div>"
      ],
      "text/plain": [
       "                                            abstract  Label\n",
       "0  We compare how in-kind food assistance and an ...      0\n",
       "1  We study differences in exposure to factor-bia...      0\n",
       "2  This article proposes a simple but powerful fr...      1\n",
       "3  Violence leaves significant social groups at a...      1\n",
       "4  This paper develops and applies a method to va...      0"
      ]
     },
     "execution_count": 53,
     "metadata": {},
     "output_type": "execute_result"
    }
   ],
   "source": [
    "new_df = pd.DataFrame({'abstract':new_abstract, 'Label': total_df['label']})\n",
    "print(len(new_df))\n",
    "new_df.head()"
   ]
  },
  {
   "cell_type": "code",
   "execution_count": 71,
   "metadata": {},
   "outputs": [
    {
     "name": "stdout",
     "output_type": "stream",
     "text": [
      "Naive Bayes: Mean Accuracy = 0.9400, Std Dev = 0.0374\n",
      "Logistic Regression: Mean Accuracy = 0.9300, Std Dev = 0.0510\n",
      "Random Forest: Mean Accuracy = 0.9200, Std Dev = 0.0678\n",
      "Support Vector Machine: Mean Accuracy = 0.6800, Std Dev = 0.0600\n"
     ]
    }
   ],
   "source": [
    "from sklearn.model_selection import train_test_split, cross_val_score\n",
    "from sklearn.feature_extraction.text import CountVectorizer\n",
    "from sklearn.naive_bayes import MultinomialNB\n",
    "from sklearn.linear_model import LogisticRegression\n",
    "from sklearn.ensemble import RandomForestClassifier\n",
    "from sklearn.svm import SVC\n",
    "from sklearn.pipeline import Pipeline\n",
    "from sklearn.metrics import classification_report\n",
    "\n",
    "# Assuming you have your data stored in a DataFrame new_df with 'abstract' and 'Label' columns\n",
    "\n",
    "X = new_df['abstract']\n",
    "y = new_df['Label']\n",
    "\n",
    "# Split data into training and testing sets for final evaluation\n",
    "X_train, X_test, y_train, y_test = train_test_split(\n",
    "    X, y, test_size=0.2, random_state=2022, stratify=y)\n",
    "\n",
    "# Models\n",
    "models = [\n",
    "    ('Naive Bayes', MultinomialNB()),\n",
    "    ('Logistic Regression', LogisticRegression(random_state=2022)),\n",
    "    ('Random Forest', RandomForestClassifier(random_state=2022)),\n",
    "    ('Support Vector Machine', SVC(random_state=2022))\n",
    "]\n",
    "\n",
    "# Pipelines\n",
    "pipelines = [\n",
    "    (name, Pipeline([\n",
    "        ('vectorizer_bow', CountVectorizer(ngram_range=(1, 2))),\n",
    "        ('model', model)\n",
    "    ])) for name, model in models\n",
    "]\n",
    "\n",
    "for name, model in pipelines:\n",
    "    # Perform cross-validation with 5 folds\n",
    "    scores = cross_val_score(model, X, y, cv=5, scoring='accuracy')\n",
    "    print(f\"{name}: Mean Accuracy = {scores.mean():.4f}, Std Dev = {scores.std():.4f}\")\n",
    "\n"
   ]
  }
 ],
 "metadata": {
  "kernelspec": {
   "display_name": "pytorch_1",
   "language": "python",
   "name": "python3"
  },
  "language_info": {
   "codemirror_mode": {
    "name": "ipython",
    "version": 3
   },
   "file_extension": ".py",
   "mimetype": "text/x-python",
   "name": "python",
   "nbconvert_exporter": "python",
   "pygments_lexer": "ipython3",
   "version": "3.8.17"
  },
  "orig_nbformat": 4
 },
 "nbformat": 4,
 "nbformat_minor": 2
}
