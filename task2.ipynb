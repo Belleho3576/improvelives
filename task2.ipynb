{
 "cells": [
  {
   "cell_type": "code",
   "execution_count": 27,
   "metadata": {},
   "outputs": [],
   "source": [
    "#import necessary packages \n",
    "from transformers import pipeline"
   ]
  },
  {
   "cell_type": "code",
   "execution_count": 32,
   "metadata": {},
   "outputs": [
    {
     "name": "stderr",
     "output_type": "stream",
     "text": [
      "Some weights of the model checkpoint at allenai/scibert_scivocab_uncased were not used when initializing BertForQuestionAnswering: ['cls.predictions.transform.dense.bias', 'cls.seq_relationship.weight', 'cls.seq_relationship.bias', 'cls.predictions.bias', 'cls.predictions.decoder.weight', 'cls.predictions.transform.dense.weight', 'cls.predictions.decoder.bias', 'cls.predictions.transform.LayerNorm.weight', 'cls.predictions.transform.LayerNorm.bias']\n",
      "- This IS expected if you are initializing BertForQuestionAnswering from the checkpoint of a model trained on another task or with another architecture (e.g. initializing a BertForSequenceClassification model from a BertForPreTraining model).\n",
      "- This IS NOT expected if you are initializing BertForQuestionAnswering from the checkpoint of a model that you expect to be exactly identical (initializing a BertForSequenceClassification model from a BertForSequenceClassification model).\n",
      "Some weights of BertForQuestionAnswering were not initialized from the model checkpoint at allenai/scibert_scivocab_uncased and are newly initialized: ['qa_outputs.weight', 'qa_outputs.bias']\n",
      "You should probably TRAIN this model on a down-stream task to be able to use it for predictions and inference.\n"
     ]
    }
   ],
   "source": [
    "# Load the SciBERT model and tokenizer for question-answering\n",
    "qa_model = \"allenai/scibert_scivocab_uncased\"\n",
    "qa_pipeline = pipeline(\"question-answering\", model=qa_model)\n",
    "\n",
    "# Question to ask\n",
    "question = \"What is the evidence for community policing?\"\n",
    "\n",
    "# Text containing possible answer\n",
    "context = \"\"\"\n",
    "Community policing is an approach to law enforcement that focuses on building strong relationships\n",
    "between the police and the community they serve. The evidence for community policing suggests that it\n",
    "can lead to increased trust and cooperation between the police and community members. Studies have\n",
    "shown that when police officers engage with the community in a positive and proactive manner, crime\n",
    "rates can decrease, and community members are more likely to report crimes and provide valuable\n",
    "information to the police. Additionally, community policing can lead to a better understanding of the\n",
    "unique needs and concerns of the community, which can result in more effective and targeted crime\n",
    "prevention strategies. Overall, the evidence indicates that community policing can be a valuable and\n",
    "effective approach to improving public safety and building stronger communities.\n",
    "\"\"\"\n"
   ]
  },
  {
   "cell_type": "code",
   "execution_count": 33,
   "metadata": {},
   "outputs": [
    {
     "name": "stdout",
     "output_type": "stream",
     "text": [
      "Answer: policing is an approach to law enforcement that focuses on building strong relationships\n",
      "between\n"
     ]
    }
   ],
   "source": [
    "# Use the pipeline to get the answer\n",
    "result = qa_pipeline(question=question, context=context)\n",
    "\n",
    "# Print the answer\n",
    "print(\"Answer:\", result['answer'])\n"
   ]
  },
  {
   "cell_type": "code",
   "execution_count": null,
   "metadata": {},
   "outputs": [],
   "source": []
  }
 ],
 "metadata": {
  "kernelspec": {
   "display_name": "pytorch_1",
   "language": "python",
   "name": "python3"
  },
  "language_info": {
   "codemirror_mode": {
    "name": "ipython",
    "version": 3
   },
   "file_extension": ".py",
   "mimetype": "text/x-python",
   "name": "python",
   "nbconvert_exporter": "python",
   "pygments_lexer": "ipython3",
   "version": "3.8.17"
  },
  "orig_nbformat": 4
 },
 "nbformat": 4,
 "nbformat_minor": 2
}
